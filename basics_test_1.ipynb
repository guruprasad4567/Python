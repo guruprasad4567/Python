{
 "cells": [
  {
   "cell_type": "markdown",
   "metadata": {},
   "source": [
    "Question 1:\n",
    "Write a Python function called \"reverse_vowels\" that takes a string as input and returns a new string with the vowels reversed while keeping the consonants in their original positions. Consider the following rules:\n",
    "- The input string will only contain lowercase letters.\n",
    "- The reversed vowels should maintain their original case (lowercase or uppercase).\n",
    "- The function should preserve the order of the characters in the original string.\n",
    "Example:\n",
    "Input: \"Hello World\"\n",
    "Output: \"Hollo Werld\""
   ]
  },
  {
   "cell_type": "markdown",
   "metadata": {},
   "source": [
    "Question 2:\n",
    "Write a Python function called \"remove_duplicates\" that takes a string as input and returns a new string with consecutive duplicate characters removed. Consider the following rules:\n",
    "- The input string will only contain uppercase letters.\n",
    "- The function should preserve the order of the characters in the original string.\n",
    "- If there are multiple occurrences of the same character consecutively, keep only the first occurrence.\n",
    "Example:\n",
    "Input: \"AAABBBCCCDDDE\"\n",
    "Output: \"ABCDE\""
   ]
  },
  {
   "cell_type": "markdown",
   "metadata": {},
   "source": [
    "Question 3:\n",
    "Write a Python function called \"find_max_difference\" that takes in a list of integers as input and returns the maximum difference between any two elements in the list.\n",
    "\n",
    "Example input: [4, 9, 2, 7, 5]\n",
    "Expected output: 7"
   ]
  },
  {
   "cell_type": "markdown",
   "metadata": {},
   "source": [
    "Question 4:\n",
    "Write a Python function called \"remove_duplicates\" that takes in a list of strings as input and returns a new list with all duplicate elements removed, preserving the original order of elements.\n",
    "\n",
    "Example input: [\"apple\", \"banana\", \"orange\", \"banana\", \"kiwi\", \"apple\"]\n",
    "Expected output: [\"apple\", \"banana\", \"orange\", \"kiwi\"]"
   ]
  },
  {
   "cell_type": "markdown",
   "metadata": {},
   "source": [
    "Question 5:\n",
    "Write a Python function named \"tuple_manipulation\" that takes in a tuple of integers and returns a new tuple containing the following modifications:\n",
    "1. The first element should be squared.\n",
    "2. The second element should be doubled.\n",
    "3. The third element should be tripled.\n",
    "4. All remaining elements should be incremented by 1.\n",
    "Your function should take the tuple as input and return the modified tuple as output.\n",
    "Example:\n",
    "Input: (2, 4, 6, 8, 10)\n",
    "Output: (4, 8, 18, 9, 11)"
   ]
  },
  {
   "cell_type": "markdown",
   "metadata": {},
   "source": [
    "Question 6:\n",
    "Write a Python function that takes in a list of dictionaries, where each dictionary represents a book with keys \"title\" and \"author\". The function should return a dictionary that groups the books by author, where each author's name is a key, and the corresponding value is a list of book titles written by that author. The input and output should have the following format:\n",
    "Input:\n",
    "[\n",
    "    {\"title\": \"Book1\", \"author\": \"Author1\"},\n",
    "    {\"title\": \"Book2\", \"author\": \"Author2\"},\n",
    "    {\"title\": \"Book3\", \"author\": \"Author1\"},\n",
    "    {\"title\": \"Book4\", \"author\": \"Author3\"},\n",
    "    {\"title\": \"Book5\", \"author\": \"Author2\"}\n",
    "]\n",
    "Output:\n",
    "{\n",
    "    \"Author1\": [\"Book1\", \"Book3\"],\n",
    "    \"Author2\": [\"Book2\", \"Book5\"],\n",
    "    \"Author3\": [\"Book4\"]\n",
    "}"
   ]
  },
  {
   "cell_type": "markdown",
   "metadata": {},
   "source": [
    "Question 7:\n",
    "Write a Python function named \"get_common_keys\" that takes two dictionaries as input and returns a list of keys that are common to both dictionaries. The function should not consider the values associated with the keys. If there are no common keys, an empty list should be returned.\n",
    "\n",
    "Example Input:\n",
    "dict1 = {'a': 1, 'b': 2, 'c': 3}\n",
    "dict2 = {'b': 4, 'c': 5, 'd': 6}\n",
    "Expected Output:\n",
    "['b', 'c']"
   ]
  },
  {
   "cell_type": "markdown",
   "metadata": {},
   "source": [
    "Question 8:\n",
    "Write a Python function named `unique_elements` that takes in two sets, `set1` and `set2`, as input. The function should return a new set that contains elements that are present in either `set1` or `set2`, but not in both. If both `set1` and `set2` are empty or contain the same elements, the function should return an empty set.\n",
    "\n",
    "For example, if `set1 = {1, 2, 3, 4}` and `set2 = {3, 4, 5, 6}`, the function should return `{1, 2, 5, 6}`.\n",
    "\n",
    "Write the function `unique_elements` and provide the output for the following inputs:\n",
    "- `set1 = {1, 2, 3, 4, 5}`\n",
    "- `set2 = {4, 5, 6, 7}`\n"
   ]
  },
  {
   "cell_type": "code",
   "execution_count": null,
   "metadata": {},
   "outputs": [],
   "source": []
  }
 ],
 "metadata": {
  "kernelspec": {
   "display_name": "Python 3",
   "language": "python",
   "name": "python3"
  },
  "language_info": {
   "codemirror_mode": {
    "name": "ipython",
    "version": 3
   },
   "file_extension": ".py",
   "mimetype": "text/x-python",
   "name": "python",
   "nbconvert_exporter": "python",
   "pygments_lexer": "ipython3",
   "version": "3.8.5"
  }
 },
 "nbformat": 4,
 "nbformat_minor": 4
}
